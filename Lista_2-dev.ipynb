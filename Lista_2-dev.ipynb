{
 "cells": [
  {
   "cell_type": "markdown",
   "id": "19ba480c",
   "metadata": {},
   "source": [
    "# Lista de Exercícios"
   ]
  },
  {
   "cell_type": "markdown",
   "id": "dffd9d9c",
   "metadata": {},
   "source": [
    "1) Crie um array formado de números (de 0 a 10) de tamanho 5 e atribua ele a uma variável chamada \"arr1\""
   ]
  },
  {
   "cell_type": "code",
   "execution_count": 11,
   "id": "9f8eddf9",
   "metadata": {},
   "outputs": [
    {
     "name": "stdout",
     "output_type": "stream",
     "text": [
      "[ 7  4  8  9 10]\n",
      "<class 'numpy.ndarray'>\n"
     ]
    }
   ],
   "source": [
    "import numpy as np\n",
    "list_np = [7,4,8,9,10]\n",
    "arr1 = np.array(list_np)\n",
    "print(arr1)\n",
    "print(type(arr1))"
   ]
  },
  {
   "cell_type": "markdown",
   "id": "ac6c1fb7",
   "metadata": {},
   "source": [
    "Suponha que os elementos do \"arr1\" são suas notas em uma determinada disciplina da faculdade. Daqui em diante vamos descobrir se você será aprovado(a) ou não."
   ]
  },
  {
   "cell_type": "markdown",
   "id": "fb969d9e",
   "metadata": {},
   "source": [
    "2) Você descobriu que normalmente a professora tira a média simples das notas e que para a aprovação é necessária uma nota acima de 5. Com isso em mente, encontre a sua média e printe o resultado."
   ]
  },
  {
   "cell_type": "code",
   "execution_count": 12,
   "id": "b321b331",
   "metadata": {},
   "outputs": [
    {
     "name": "stdout",
     "output_type": "stream",
     "text": [
      "7.6\n"
     ]
    }
   ],
   "source": [
    "med = sum(arr1)/len(arr1)\n",
    "print(med)"
   ]
  },
  {
   "cell_type": "markdown",
   "id": "3c5cb2bd",
   "metadata": {},
   "source": [
    "3) Após ter o resultado inicial na 2), você descobre que a professora decidiu alterar o método nesse semestre e a sua média será feita de uma forma diferente. Ela anunciou que para a aprovação é necessário que ao menos 3 das 5 notas tenham sido acima de 5 e que, dentre essas notas, ao menos uma tenha o valor maior ou igual a 7."
   ]
  },
  {
   "cell_type": "markdown",
   "id": "568114da",
   "metadata": {},
   "source": [
    "a) Retorne a quantidade de notas acima de 5"
   ]
  },
  {
   "cell_type": "code",
   "execution_count": 13,
   "id": "7ffc14f2",
   "metadata": {},
   "outputs": [
    {
     "name": "stdout",
     "output_type": "stream",
     "text": [
      "[ 7  8  9 10]\n"
     ]
    }
   ],
   "source": [
    "notas_acima = arr1[ arr1 > 5]\n",
    "print(notas_acima)"
   ]
  },
  {
   "cell_type": "markdown",
   "id": "307f91a7",
   "metadata": {},
   "source": [
    "b) Caso na a) o valor seja maior ou igual a 3, crie um novo array com esses números e descubra o resultado da aprovação"
   ]
  },
  {
   "cell_type": "code",
   "execution_count": 15,
   "id": "c5d7def2",
   "metadata": {},
   "outputs": [
    {
     "name": "stdout",
     "output_type": "stream",
     "text": [
      "[ True  True  True  True]\n",
      "Aprovado\n"
     ]
    }
   ],
   "source": [
    "aprov = np.array(notas_acima)\n",
    "print(aprov >= 7)\n",
    "if (sum(aprov)/5) >= 5:\n",
    "    print('Aprovado')"
   ]
  },
  {
   "cell_type": "markdown",
   "id": "b7f89b59",
   "metadata": {},
   "source": [
    "c) Caso na a) o valor seja menor do que 3, crie um novo array com esses números, e descubra se você conseguirá fazer a reaval (para isso é necessário que, dentre essas notas menores do que 5, a sua média tenha sido ao menos 3)"
   ]
  },
  {
   "cell_type": "code",
   "execution_count": null,
   "id": "ce2b1db4",
   "metadata": {},
   "outputs": [],
   "source": [
    "#não é menor que 3#"
   ]
  },
  {
   "cell_type": "markdown",
   "id": "922f9b48",
   "metadata": {},
   "source": [
    "4) Dada a facilidade de se mexer com as notas usando Numpy você decidiu criar novos arrays com suas notas em outras matérias. Crie 2 novos arrays com as mesmas características do que o \"arr1\""
   ]
  },
  {
   "cell_type": "code",
   "execution_count": 22,
   "id": "1aa591e9",
   "metadata": {},
   "outputs": [
    {
     "name": "stdout",
     "output_type": "stream",
     "text": [
      "[6 5 3 9 9] [ 2  7  8  3 10]\n"
     ]
    }
   ],
   "source": [
    "arr2 = np.array([6, 5, 3, 9, 9])\n",
    "arr3 = np.array([2, 7, 8, 3, 10])\n",
    "print(arr2, arr3)"
   ]
  },
  {
   "cell_type": "markdown",
   "id": "258cbb31",
   "metadata": {},
   "source": [
    "5) a)Transforme os 3 arrays em um único array, de tamanho (3,5)"
   ]
  },
  {
   "cell_type": "code",
   "execution_count": 23,
   "id": "bd74fe1e",
   "metadata": {},
   "outputs": [
    {
     "name": "stdout",
     "output_type": "stream",
     "text": [
      "[[ 7  4  8  9 10]\n",
      " [ 6  5  3  9  9]\n",
      " [ 2  7  8  3 10]]\n"
     ]
    }
   ],
   "source": [
    "arr_tot = np.array([arr1, arr2, arr3])\n",
    "print(arr_tot)"
   ]
  },
  {
   "cell_type": "markdown",
   "id": "52c7d47e",
   "metadata": {},
   "source": [
    "b) Mude o formato de a) para (5,3)"
   ]
  },
  {
   "cell_type": "code",
   "execution_count": 27,
   "id": "35b52574",
   "metadata": {},
   "outputs": [
    {
     "name": "stdout",
     "output_type": "stream",
     "text": [
      "[[ 7  4  8]\n",
      " [ 9 10  6]\n",
      " [ 5  3  9]\n",
      " [ 9  2  7]\n",
      " [ 8  3 10]]\n"
     ]
    }
   ],
   "source": [
    "new_arr = arr_tot.reshape(5, 3)\n",
    "print(new_arr)"
   ]
  },
  {
   "cell_type": "markdown",
   "id": "4e7b35a8",
   "metadata": {},
   "source": [
    "6) A lista inf_anual tem os dados da inflação anual dos últimos anos (2012,2020) no Brasil (IPCA), crie um array chamado \"inflacao_br\" com os dados da lista\n"
   ]
  },
  {
   "cell_type": "code",
   "execution_count": 29,
   "id": "2fd89475",
   "metadata": {},
   "outputs": [
    {
     "name": "stdout",
     "output_type": "stream",
     "text": [
      "[ 5.84  5.91  6.41 10.67  6.29  2.95  3.75  4.31  4.52]\n"
     ]
    }
   ],
   "source": [
    "inf_anual = [5.84,5.91,6.41,10.67,6.29,2.95,3.75,4.31,4.52]\n",
    "inflacao_br = np.array(inf_anual)\n",
    "print(inflacao_br)"
   ]
  },
  {
   "cell_type": "markdown",
   "id": "e0c17d7f",
   "metadata": {},
   "source": [
    "7) Suponha que a meta da inflação ficou constante em 4.5 ao longo desses anos, com uma tolerância de 1.5 para mais ou para menos. Descubra em quais anos o número ficou fora dessa tolerância e retorne um array com 1 se isso é verdade, e 0 caso contrário."
   ]
  },
  {
   "cell_type": "code",
   "execution_count": 45,
   "id": "acdce620",
   "metadata": {},
   "outputs": [
    {
     "name": "stdout",
     "output_type": "stream",
     "text": [
      "[0 0 1 1 1 1 0 0 0]\n"
     ]
    }
   ],
   "source": [
    " n_boulean = np.logical_or(inflacao_br > 6, inflacao_br < 3).astype(np.int32)\n",
    "print(n_boulean)"
   ]
  },
  {
   "cell_type": "markdown",
   "id": "acb34520",
   "metadata": {},
   "source": [
    "8) Plote um gráfico que mostre a evolução anual da inflação, use os anos para o eixo x e a inflação ao eixo y. Nomeie o eixo x como anos e y IPCA, coloque uma cor laranja à reta de inflação."
   ]
  },
  {
   "cell_type": "code",
   "execution_count": 68,
   "id": "34e46b9e",
   "metadata": {},
   "outputs": [
    {
     "data": {
      "image/png": "[encoded data removed]",
      "text/plain": [
       "<Figure size 432x288 with 1 Axes>"
      ]
     },
     "metadata": {
      "needs_background": "light"
     },
     "output_type": "display_data"
    }
   ],
   "source": [
    "import matplotlib.pyplot as plt\n",
    "fig, ax = plt.subplots()\n",
    "\n",
    "x = np.array([2012, 2013, 2014, 2015, 2016, 2017, 2018, 2019, 2020])\n",
    "y = inflacao_br\n",
    "\n",
    "ax.plot(x, y, color=\"orange\", marker=\"v\")\n",
    "ax.set_xlabel('Anos')\n",
    "ax.set_ylabel('IPCA')\n",
    "\n",
    "plt.show()"
   ]
  },
  {
   "cell_type": "markdown",
   "id": "4bcd39e8",
   "metadata": {},
   "source": [
    "b) Descreva o comportamento do gráfico."
   ]
  },
  {
   "cell_type": "code",
   "execution_count": 69,
   "id": "f130deb5",
   "metadata": {},
   "outputs": [],
   "source": [
    "## Entre os anos de 2012 e 2014, a inflação se manteve quase a mesma, porém, rente ao teto do que seria aceitável para a mesma.\n",
    "## Mas, no ano de 2015, a inflação atingiu sua maior alta dentre os anos observados, chegando a quase 11%, por conseguinte abaixando\n",
    "## para abaixo do esperado em 2017, menos de 3%, o que seria ótimo pro cenário brasileiro.\n",
    "## Porém, já dria o ditado \"alegria de pobre dura pouco\", em 2018 a inflação voltou a subir, entretanto, se manteve na faixa aceitável pelo BACEN até 2020, sendo o último ano analisado."
   ]
  }
 ],
 "metadata": {
  "kernelspec": {
   "display_name": "Python 3 (ipykernel)",
   "language": "python",
   "name": "python3"
  },
  "language_info": {
   "codemirror_mode": {
    "name": "ipython",
    "version": 3
   },
   "file_extension": ".py",
   "mimetype": "text/x-python",
   "name": "python",
   "nbconvert_exporter": "python",
   "pygments_lexer": "ipython3",
   "version": "3.9.7"
  }
 },
 "nbformat": 4,
 "nbformat_minor": 5
}
