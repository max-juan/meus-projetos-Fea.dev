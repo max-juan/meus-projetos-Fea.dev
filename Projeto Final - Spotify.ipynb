{
 "cells": [
  {
   "cell_type": "markdown",
   "id": "69e97616",
   "metadata": {},
   "source": [
    "# Projeto Spotify – Resumo"
   ]
  },
  {
   "cell_type": "markdown",
   "id": "5e250dbf",
   "metadata": {},
   "source": [
    "Análise dos Top Hits desde 2000 até 2021.\n",
    "\n",
    "Verificar quais são as variáveis de uma música, quais cantores aparecem com frequência, identificar padrões e muito mais!"
   ]
  },
  {
   "cell_type": "markdown",
   "id": "438f5e47",
   "metadata": {},
   "source": [
    "<img src='https://cloudfront-us-east-2.images.arcpublishing.com/reuters/BESP6NZVB5PCZAJEQT5RWZKYTM.jpg' height=\"100%\" width=\"500\" style=\"margin-left: auto;margin-right: auto\">"
   ]
  },
  {
   "cell_type": "markdown",
   "id": "449ec199",
   "metadata": {},
   "source": [
    "Importação das bibliotecas necessárias."
   ]
  },
  {
   "cell_type": "code",
   "execution_count": 81,
   "id": "604824f6",
   "metadata": {},
   "outputs": [],
   "source": [
    "from selenium import webdriver\n",
    "from selenium.webdriver.common.by import By\n",
    "from selenium.webdriver.support.ui import WebDriverWait\n",
    "from selenium.webdriver.support import expected_conditions as CondicaoExperada\n",
    "from selenium.common.exceptions import *\n",
    "import time\n",
    "import random\n",
    "import pandas as pd\n",
    "import spotipy\n",
    "from spotipy.oauth2 import SpotifyClientCredentials\n",
    "import seaborn as sns\n",
    "import matplotlib.pyplot as plt\n",
    "import numpy as np"
   ]
  },
  {
   "cell_type": "markdown",
   "id": "66206c6f",
   "metadata": {},
   "source": [
    "É preciso ter as credenciais dentro da plataforma **Spofify for Developers** e o login do Facebook.\n",
    "\n",
    "Estes dados secretos foram armazenadas em um arquivo csv e lidas diretamente nas variáveis."
   ]
  },
  {
   "cell_type": "code",
   "execution_count": 82,
   "id": "a1dbee1b",
   "metadata": {},
   "outputs": [],
   "source": [
    "credentials = pd.read_csv('credentials.csv')\n",
    "fb = pd.read_csv('login_fb.csv')"
   ]
  },
  {
   "cell_type": "markdown",
   "id": "e67e2a72",
   "metadata": {},
   "source": [
    "Com as credenciais, será possível acessar a **API do Spotify**. \n",
    "\n",
    "API é a interface de programação para aplicações disponibilizada aos desenvolvedores pelo próprio Spotify.\n",
    "\n",
    "Para acessar o código das 21 playlists de Top Hits (de 2000 até 2021), utilizou-se o Selenium Web Driver: ferramenta utilizada para automatização de testes."
   ]
  },
  {
   "cell_type": "code",
   "execution_count": 93,
   "id": "ec738d04",
   "metadata": {},
   "outputs": [
    {
     "name": "stderr",
     "output_type": "stream",
     "text": [
      "C:\\Users\\santanc1\\AppData\\Local\\Temp/ipykernel_6968/1828129020.py:5: DeprecationWarning: executable_path has been deprecated, please pass in a Service object\n",
      "  driver = webdriver.Chrome(executable_path=r'C:\\Users\\santanc1\\Downloads\\chromedriver_win32\\chromedriver.exe',\n",
      "C:\\Users\\santanc1\\AppData\\Local\\Temp/ipykernel_6968/1828129020.py:5: DeprecationWarning: use options instead of chrome_options\n",
      "  driver = webdriver.Chrome(executable_path=r'C:\\Users\\santanc1\\Downloads\\chromedriver_win32\\chromedriver.exe',\n"
     ]
    }
   ],
   "source": [
    "# !pip install selenium\n",
    "\n",
    "options = webdriver.ChromeOptions()\n",
    "options.add_argument('lang=pt-BR')\n",
    "driver = webdriver.Chrome(executable_path=r'C:\\Users\\santanc1\\Downloads\\chromedriver_win32\\chromedriver.exe',\n",
    "                          chrome_options=options) \n",
    "wait = WebDriverWait(\n",
    "        driver,\n",
    "        10,\n",
    "        poll_frequency=1,\n",
    "        ignored_exceptions=[  \n",
    "            NoSuchElementException,\n",
    "            ElementNotVisibleException,\n",
    "            ElementNotSelectableException,\n",
    "        ],\n",
    "    )\n",
    "\n",
    "email = fb['email']\n",
    "senha = fb['senha']\n",
    "link_spofity = 'https://open.spotify.com/'\n",
    "links=[]\n",
    "client_id = str(credentials['id'])\n",
    "client_secret = str(credentials['secret'])\n",
    "client_credentials_manager = SpotifyClientCredentials(client_id, client_secret) \n",
    "sp = spotipy.Spotify(client_credentials_manager=client_credentials_manager)\n",
    "tracks = []"
   ]
  },
  {
   "cell_type": "markdown",
   "id": "f3f58328",
   "metadata": {},
   "source": [
    "Foram criadas diversas funções que abrem o navegador e executam os logins (Spotify, Facebook, Playlist etc.) de forma automatizada para que não seja preciso acessar manualmente."
   ]
  },
  {
   "cell_type": "code",
   "execution_count": null,
   "id": "12991fb6",
   "metadata": {},
   "outputs": [],
   "source": [
    "def Start():\n",
    "    driver.get(link_spofity)\n",
    "    LoginSpotify()\n",
    "    LogarComFacebook()\n",
    "    PesquisarPlaylists()\n",
    "    CriarBase(links)\n",
    "    \n",
    "\n",
    "def LoginSpotify():\n",
    "    print(\"Loggando no Spotify\")\n",
    "    login_button = wait.until(\n",
    "        CondicaoExperada.element_to_be_clickable(\n",
    "            (By.XPATH, '//*[@id=\"main\"]/div/div[2]/div[1]/header/div[5]/button[2]/span')\n",
    "        )\n",
    "    )\n",
    "    login_button.click()\n",
    "\n",
    "def LogarComFacebook():\n",
    "    print(\"logando no facebook\")\n",
    "    botao_logar_com_facebook = wait.until(\n",
    "        CondicaoExperada.element_to_be_clickable(\n",
    "            (By.XPATH, '//*[@id=\"root\"]/div/div[2]/div/div/button[1]')\n",
    "        )\n",
    "    )\n",
    "    botao_logar_com_facebook.click()\n",
    "    InserirDadosLoginFacebook()\n",
    "\n",
    "def InserirDadosLoginFacebook():\n",
    "    campo_email = wait.until(CondicaoExperada.element_to_be_clickable((By.XPATH,'//input[@name=\"email\"]')))\n",
    "    campo_senha = wait.until(CondicaoExperada.element_to_be_clickable((By.XPATH,'//input[@name=\"pass\"]')))\n",
    "    botao_login = wait.until(CondicaoExperada.element_to_be_clickable((By.XPATH,'//button[@name=\"login\"]')))\n",
    "\n",
    "    campo_email.clear()\n",
    "    digite_como_uma_pessoa(email, campo_email)\n",
    "    time.sleep(random.randint(1, 3))\n",
    "    campo_senha.clear()\n",
    "    digite_como_uma_pessoa(senha, campo_senha)\n",
    "    time.sleep(random.randint(1, 3))\n",
    "    botao_login.click()\n",
    "    time.sleep(random.randint(4, 7))\n",
    "\n",
    "def PesquisarPlaylists():\n",
    "    print('Pesquisando Playlists')\n",
    "    for i in range(2000,2022):\n",
    "        botao_buscar = wait.until(\n",
    "            CondicaoExperada.element_to_be_clickable(\n",
    "                (By.XPATH, '//*[@id=\"main\"]/div/div[2]/nav/div[1]/ul/li[2]/a')\n",
    "            )\n",
    "        )\n",
    "        botao_buscar.click()\n",
    "        top_hits_texto=f'Top Hits de {i}'\n",
    "        campo_buscar = wait.until(CondicaoExperada.element_to_be_clickable((By.XPATH,'//*[@id=\"main\"]/div/div[2]/div[1]/header/div[3]/div/div/form/input')))\n",
    "        campo_buscar.clear()\n",
    "        digite_como_uma_pessoa(top_hits_texto, campo_buscar)\n",
    "        time.sleep(3)\n",
    "        botao_playlist = wait.until(\n",
    "            CondicaoExperada.element_to_be_clickable(\n",
    "                (By.XPATH, '/html/body/div[4]/div/div[2]/div[3]/div[1]/div[2]/div[2]/div/div/div[2]/main/div[2]/div/div/section[1]/div[2]/div/div/div/div[4]')\n",
    "            )\n",
    "        )\n",
    "        \n",
    "        botao_playlist.click()\n",
    "        link_playlist=driver.current_url\n",
    "        link_limpado=link_playlist[34:]\n",
    "        links.append(link_limpado)\n",
    "    print(links)\n",
    "    print(len(links))\n",
    "\n",
    "def CriarBase(links):\n",
    "    print('criando base de dados')\n",
    "    year=2000\n",
    "    for link in links:\n",
    "        ids=getTrackIDs('Spotify', link)\n",
    "        for i in range(len(ids)):\n",
    "            track_features=[]\n",
    "            time.sleep(.5)\n",
    "            id=ids[i]\n",
    "            try:\n",
    "                track_features=getTrackFeatures(id)\n",
    "                track_features.append(year)\n",
    "                tracks.append(track_features)\n",
    "            except:\n",
    "                pass\n",
    "        print('tracks:', tracks)\n",
    "        year+=1\n",
    "    df = pd.DataFrame(tracks, columns = ['name', 'album', 'artist', 'release_date', 'length', 'popularity', \n",
    "                                         'danceability', 'acousticness', 'energy', 'instrumentalness', 'liveness', \n",
    "                                         'loudness', 'speechiness', 'tempo', 'time_signature', 'playlist_year']) \n",
    "    df.to_csv('spotify.csv', sep = ',')\n",
    "    print('df:', df)\n",
    "    df.head()\n",
    "    df.describe()\n",
    "    df.shape\n",
    "\n",
    "def getTrackFeatures(id):\n",
    "        meta = sp.track(id) \n",
    "        features = sp.audio_features(id)\n",
    "        name = meta['name'] \n",
    "        album = meta['album']['name'] \n",
    "        artist = meta['album']['artists'][0]['name'] \n",
    "        release_date = meta['album']['release_date'] \n",
    "        length = meta['duration_ms'] \n",
    "        popularity = meta['popularity']\n",
    "        acousticness = features[0]['acousticness'] \n",
    "        danceability = features[0]['danceability'] \n",
    "        energy = features[0]['energy'] \n",
    "        instrumentalness = features[0]['instrumentalness'] \n",
    "        liveness = features[0]['liveness'] \n",
    "        loudness = features[0]['loudness'] \n",
    "        speechiness = features[0]['speechiness'] \n",
    "        tempo = features[0]['tempo'] \n",
    "        time_signature = features[0]['time_signature'] \n",
    "        track_features = [name, album, artist, release_date, length, popularity, danceability, acousticness, energy, \n",
    "                          instrumentalness, liveness, loudness, speechiness, tempo, time_signature] \n",
    "        return track_features\n",
    "\n",
    "def getTrackIDs(user, playlist_id):\n",
    "    print('Armazenando ids das músicas')\n",
    "    ids=[]\n",
    "    playlist = sp.user_playlist(user, playlist_id) \n",
    "    for item in playlist['tracks']['items']: \n",
    "        track = item['track'] \n",
    "        ids.append(track['id'])\n",
    "    return ids\n",
    "     \n",
    "@staticmethod    \n",
    "def digite_como_uma_pessoa(frase, campo_input_unico):\n",
    "    for letra in frase:\n",
    "        campo_input_unico.send_keys(letra)\n",
    "        time.sleep(random.randint(1, 5) / 30)\n",
    "\n",
    "Start()"
   ]
  },
  {
   "cell_type": "markdown",
   "id": "8d6c66f3",
   "metadata": {},
   "source": [
    "Após executar todas as funções, salva-se automaticamente o arquivo csv com os dados das 21 playlists."
   ]
  },
  {
   "cell_type": "code",
   "execution_count": 233,
   "id": "01e99d35",
   "metadata": {},
   "outputs": [],
   "source": [
    "# Transformar a coluna length de ms para segundos\n",
    "\n",
    "df = pd.read_csv('spotify.csv', index_col=0)\n",
    "df['length']=df['length']/1000000"
   ]
  },
  {
   "cell_type": "code",
   "execution_count": 234,
   "id": "bb821ec9",
   "metadata": {},
   "outputs": [
    {
     "data": {
      "text/html": [
       "<div>\n",
       "<style scoped>\n",
       "    .dataframe tbody tr th:only-of-type {\n",
       "        vertical-align: middle;\n",
       "    }\n",
       "\n",
       "    .dataframe tbody tr th {\n",
       "        vertical-align: top;\n",
       "    }\n",
       "\n",
       "    .dataframe thead th {\n",
       "        text-align: right;\n",
       "    }\n",
       "</style>\n",
       "<table border=\"1\" class=\"dataframe\">\n",
       "  <thead>\n",
       "    <tr style=\"text-align: right;\">\n",
       "      <th></th>\n",
       "      <th>name</th>\n",
       "      <th>album</th>\n",
       "      <th>artist</th>\n",
       "      <th>release_date</th>\n",
       "      <th>length</th>\n",
       "      <th>popularity</th>\n",
       "      <th>danceability</th>\n",
       "      <th>acousticness</th>\n",
       "      <th>energy</th>\n",
       "      <th>instrumentalness</th>\n",
       "      <th>liveness</th>\n",
       "      <th>loudness</th>\n",
       "      <th>speechiness</th>\n",
       "      <th>tempo</th>\n",
       "      <th>time_signature</th>\n",
       "      <th>playlist_year</th>\n",
       "    </tr>\n",
       "  </thead>\n",
       "  <tbody>\n",
       "    <tr>\n",
       "      <th>0</th>\n",
       "      <td>Oops!...I Did It Again</td>\n",
       "      <td>Oops!... I Did It Again</td>\n",
       "      <td>Britney Spears</td>\n",
       "      <td>2000-05-16</td>\n",
       "      <td>0.211160</td>\n",
       "      <td>78</td>\n",
       "      <td>0.751</td>\n",
       "      <td>0.30000</td>\n",
       "      <td>0.834</td>\n",
       "      <td>0.000018</td>\n",
       "      <td>0.355</td>\n",
       "      <td>-5.444</td>\n",
       "      <td>0.0437</td>\n",
       "      <td>95.053</td>\n",
       "      <td>4</td>\n",
       "      <td>2000</td>\n",
       "    </tr>\n",
       "    <tr>\n",
       "      <th>1</th>\n",
       "      <td>Yellow</td>\n",
       "      <td>Parachutes</td>\n",
       "      <td>Coldplay</td>\n",
       "      <td>2000-07-10</td>\n",
       "      <td>0.266773</td>\n",
       "      <td>88</td>\n",
       "      <td>0.429</td>\n",
       "      <td>0.00239</td>\n",
       "      <td>0.661</td>\n",
       "      <td>0.000121</td>\n",
       "      <td>0.234</td>\n",
       "      <td>-7.227</td>\n",
       "      <td>0.0281</td>\n",
       "      <td>173.372</td>\n",
       "      <td>4</td>\n",
       "      <td>2000</td>\n",
       "    </tr>\n",
       "    <tr>\n",
       "      <th>2</th>\n",
       "      <td>Stan</td>\n",
       "      <td>The Marshall Mathers LP</td>\n",
       "      <td>Eminem</td>\n",
       "      <td>2000-05-23</td>\n",
       "      <td>0.404106</td>\n",
       "      <td>84</td>\n",
       "      <td>0.780</td>\n",
       "      <td>0.03710</td>\n",
       "      <td>0.768</td>\n",
       "      <td>0.000002</td>\n",
       "      <td>0.518</td>\n",
       "      <td>-4.325</td>\n",
       "      <td>0.2380</td>\n",
       "      <td>80.063</td>\n",
       "      <td>4</td>\n",
       "      <td>2000</td>\n",
       "    </tr>\n",
       "    <tr>\n",
       "      <th>3</th>\n",
       "      <td>In the End</td>\n",
       "      <td>Hybrid Theory (Bonus Edition)</td>\n",
       "      <td>Linkin Park</td>\n",
       "      <td>2000-10-24</td>\n",
       "      <td>0.216880</td>\n",
       "      <td>84</td>\n",
       "      <td>0.556</td>\n",
       "      <td>0.00958</td>\n",
       "      <td>0.864</td>\n",
       "      <td>0.000000</td>\n",
       "      <td>0.209</td>\n",
       "      <td>-5.870</td>\n",
       "      <td>0.0584</td>\n",
       "      <td>105.143</td>\n",
       "      <td>4</td>\n",
       "      <td>2000</td>\n",
       "    </tr>\n",
       "    <tr>\n",
       "      <th>4</th>\n",
       "      <td>Agamamou - Ao Vivo</td>\n",
       "      <td>Acústico Art Popular (Remasterizado / Ao Vivo)</td>\n",
       "      <td>Art Popular</td>\n",
       "      <td>2000-06-05</td>\n",
       "      <td>0.272597</td>\n",
       "      <td>33</td>\n",
       "      <td>0.691</td>\n",
       "      <td>0.80500</td>\n",
       "      <td>0.664</td>\n",
       "      <td>0.003700</td>\n",
       "      <td>0.706</td>\n",
       "      <td>-11.273</td>\n",
       "      <td>0.0953</td>\n",
       "      <td>101.049</td>\n",
       "      <td>4</td>\n",
       "      <td>2000</td>\n",
       "    </tr>\n",
       "  </tbody>\n",
       "</table>\n",
       "</div>"
      ],
      "text/plain": [
       "                     name                                           album  \\\n",
       "0  Oops!...I Did It Again                         Oops!... I Did It Again   \n",
       "1                  Yellow                                      Parachutes   \n",
       "2                    Stan                         The Marshall Mathers LP   \n",
       "3              In the End                   Hybrid Theory (Bonus Edition)   \n",
       "4      Agamamou - Ao Vivo  Acústico Art Popular (Remasterizado / Ao Vivo)   \n",
       "\n",
       "           artist release_date    length  popularity  danceability  \\\n",
       "0  Britney Spears   2000-05-16  0.211160          78         0.751   \n",
       "1        Coldplay   2000-07-10  0.266773          88         0.429   \n",
       "2          Eminem   2000-05-23  0.404106          84         0.780   \n",
       "3     Linkin Park   2000-10-24  0.216880          84         0.556   \n",
       "4     Art Popular   2000-06-05  0.272597          33         0.691   \n",
       "\n",
       "   acousticness  energy  instrumentalness  liveness  loudness  speechiness  \\\n",
       "0       0.30000   0.834          0.000018     0.355    -5.444       0.0437   \n",
       "1       0.00239   0.661          0.000121     0.234    -7.227       0.0281   \n",
       "2       0.03710   0.768          0.000002     0.518    -4.325       0.2380   \n",
       "3       0.00958   0.864          0.000000     0.209    -5.870       0.0584   \n",
       "4       0.80500   0.664          0.003700     0.706   -11.273       0.0953   \n",
       "\n",
       "     tempo  time_signature  playlist_year  \n",
       "0   95.053               4           2000  \n",
       "1  173.372               4           2000  \n",
       "2   80.063               4           2000  \n",
       "3  105.143               4           2000  \n",
       "4  101.049               4           2000  "
      ]
     },
     "execution_count": 234,
     "metadata": {},
     "output_type": "execute_result"
    }
   ],
   "source": [
    "# Visualizando as cinco primeiras linhas do DataFrame\n",
    "\n",
    "df.head()"
   ]
  },
  {
   "cell_type": "code",
   "execution_count": 235,
   "id": "c4df06a8",
   "metadata": {},
   "outputs": [
    {
     "data": {
      "text/plain": [
       "Index(['name', 'album', 'artist', 'release_date', 'length', 'popularity',\n",
       "       'danceability', 'acousticness', 'energy', 'instrumentalness',\n",
       "       'liveness', 'loudness', 'speechiness', 'tempo', 'time_signature',\n",
       "       'playlist_year'],\n",
       "      dtype='object')"
      ]
     },
     "execution_count": 235,
     "metadata": {},
     "output_type": "execute_result"
    }
   ],
   "source": [
    "# Visualizando as colunas do DataFrame\n",
    "\n",
    "df.columns"
   ]
  },
  {
   "cell_type": "code",
   "execution_count": 236,
   "id": "1275b4ef",
   "metadata": {},
   "outputs": [
    {
     "data": {
      "text/plain": [
       "(1539, 16)"
      ]
     },
     "execution_count": 236,
     "metadata": {},
     "output_type": "execute_result"
    }
   ],
   "source": [
    "# Visualizando o tamanho do DataFrame\n",
    "\n",
    "df.shape"
   ]
  },
  {
   "cell_type": "code",
   "execution_count": 237,
   "id": "c64c2ac0",
   "metadata": {},
   "outputs": [
    {
     "data": {
      "text/plain": [
       "Rihanna          27\n",
       "Drake            26\n",
       "Taylor Swift     22\n",
       "Beyoncé          20\n",
       "Ariana Grande    17\n",
       "Kanye West       17\n",
       "Coldplay         17\n",
       "Katy Perry       15\n",
       "Bruno Mars       15\n",
       "Eminem           15\n",
       "Name: artist, dtype: int64"
      ]
     },
     "execution_count": 237,
     "metadata": {},
     "output_type": "execute_result"
    }
   ],
   "source": [
    "# TOP10 artistas que mais aparecem nos Top Hits\n",
    "\n",
    "artist = df['artist'].value_counts()\n",
    "\n",
    "artist.iloc[0:10]"
   ]
  },
  {
   "cell_type": "code",
   "execution_count": 238,
   "id": "90a44e9a",
   "metadata": {},
   "outputs": [
    {
     "data": {
      "text/plain": [
       "Sorry                         5\n",
       "Perfect                       4\n",
       "Dynamite                      3\n",
       "Demons                        3\n",
       "The Middle                    3\n",
       "It's My Life                  3\n",
       "Mercy                         3\n",
       "Don't Start Now               3\n",
       "Miss Independent              3\n",
       "rockstar (feat. 21 Savage)    3\n",
       "I Fall Apart                  3\n",
       "Name: name, dtype: int64"
      ]
     },
     "execution_count": 238,
     "metadata": {},
     "output_type": "execute_result"
    }
   ],
   "source": [
    "# Músicas que foram hits em pelo menos 3 anos\n",
    "\n",
    "hits = df['name'].value_counts()\n",
    "\n",
    "hits.iloc[0:11]"
   ]
  },
  {
   "cell_type": "code",
   "execution_count": 224,
   "id": "e6758f31",
   "metadata": {},
   "outputs": [
    {
     "data": {
      "image/png": "[encoded data removed]",
      "text/plain": [
       "<Figure size 720x360 with 1 Axes>"
      ]
     },
     "metadata": {},
     "output_type": "display_data"
    }
   ],
   "source": [
    "# Analisar o tempo médio das músicas ao longo dos anos\n",
    "\n",
    "mean_time = df.groupby('playlist_year')['time'].mean()\n",
    "years = list(range(2000, 2022))\n",
    "\n",
    "# Criação do gráfico\n",
    "\n",
    "plt.style.use('Solarize_Light2')\n",
    "fig, ax = plt.subplots()\n",
    "ax.plot(years, mean_time)\n",
    "fig.set_size_inches([10, 5])\n",
    "ax.set_xlabel('Anos')\n",
    "ax.set_ylabel('Tempo médio das músicas')\n",
    "ax.set_title('Tempo médio das músicas ao longo dos anos')\n",
    "\n",
    "plt.show()"
   ]
  },
  {
   "cell_type": "code",
   "execution_count": 229,
   "id": "4d1e388c",
   "metadata": {},
   "outputs": [
    {
     "data": {
      "image/png": "[encoded data removed]",
      "text/plain": [
       "<Figure size 720x360 with 1 Axes>"
      ]
     },
     "metadata": {},
     "output_type": "display_data"
    }
   ],
   "source": [
    "# Analisar a correleção entre as variáveis popularity e danceability\n",
    "\n",
    "plt.style.use('Solarize_Light2')\n",
    "fig, ax = plt.subplots()\n",
    "ax.scatter(df['popularity'], df['danceability'])\n",
    "fig.set_size_inches([10, 5])\n",
    "ax.set_xlabel('Popularity')\n",
    "ax.set_ylabel('Danceability')\n",
    "ax.set_title('Relação entre ser popular e dançável')\n",
    "\n",
    "plt.show()"
   ]
  },
  {
   "cell_type": "code",
   "execution_count": 230,
   "id": "c5eb9feb",
   "metadata": {},
   "outputs": [
    {
     "data": {
      "image/png": "[encoded data removed]",
      "text/plain": [
       "<Figure size 720x360 with 1 Axes>"
      ]
     },
     "metadata": {},
     "output_type": "display_data"
    }
   ],
   "source": [
    "# Analisar a energia (velocidade, volume, barulho etc.) das músicas ao longo dos anos\n",
    "\n",
    "energy = df.groupby('playlist_year')['energy'].mean()\n",
    "\n",
    "fig, ax = plt.subplots()\n",
    "ax.bar(years, energy)\n",
    "ax.set_xlabel('Energy')\n",
    "ax.set_title('O quão as músicas são energéticas')\n",
    "fig.set_size_inches([10, 5])\n",
    "\n",
    "plt.show()"
   ]
  }
 ],
 "metadata": {
  "kernelspec": {
   "display_name": "Python 3 (ipykernel)",
   "language": "python",
   "name": "python3"
  },
  "language_info": {
   "codemirror_mode": {
    "name": "ipython",
    "version": 3
   },
   "file_extension": ".py",
   "mimetype": "text/x-python",
   "name": "python",
   "nbconvert_exporter": "python",
   "pygments_lexer": "ipython3",
   "version": "3.9.7"
  }
 },
 "nbformat": 4,
 "nbformat_minor": 5
}
